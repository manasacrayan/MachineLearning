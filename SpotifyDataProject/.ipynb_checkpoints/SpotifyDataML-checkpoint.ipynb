{
 "cells": [
  {
   "cell_type": "markdown",
   "id": "06afdd1e",
   "metadata": {},
   "source": [
    "### Importing the necessary libraries"
   ]
  },
  {
   "cell_type": "code",
   "execution_count": 1,
   "id": "3514a95a",
   "metadata": {},
   "outputs": [],
   "source": [
    "# Data manipulation and handling and visualization libs\n",
    "import numpy as np\n",
    "import pandas as pd\n",
    "import matplotlib.pyplot as plt\n",
    "import seaborn as sns\n",
    "\n",
    "#NMF\n",
    "from sklearn.decomposition import NMF\n",
    "\n",
    "# clustering library\n",
    "from sklearn.cluster import KMeans\n",
    "from sklearn.neighbors import NearestNeighbors"
   ]
  },
  {
   "cell_type": "markdown",
   "id": "e2b3eb80",
   "metadata": {},
   "source": [
    "## Loading the dataset"
   ]
  },
  {
   "cell_type": "code",
   "execution_count": 2,
   "id": "7b5ac632",
   "metadata": {},
   "outputs": [],
   "source": [
    "df = pd.read_csv('spotify.xls', index_col = 0)"
   ]
  },
  {
   "cell_type": "code",
   "execution_count": 3,
   "id": "755e3ea1",
   "metadata": {},
   "outputs": [
    {
     "data": {
      "text/html": [
       "<div>\n",
       "<style scoped>\n",
       "    .dataframe tbody tr th:only-of-type {\n",
       "        vertical-align: middle;\n",
       "    }\n",
       "\n",
       "    .dataframe tbody tr th {\n",
       "        vertical-align: top;\n",
       "    }\n",
       "\n",
       "    .dataframe thead th {\n",
       "        text-align: right;\n",
       "    }\n",
       "</style>\n",
       "<table border=\"1\" class=\"dataframe\">\n",
       "  <thead>\n",
       "    <tr style=\"text-align: right;\">\n",
       "      <th></th>\n",
       "      <th>song_1</th>\n",
       "      <th>song_2</th>\n",
       "      <th>song_3</th>\n",
       "      <th>song_4</th>\n",
       "      <th>song_5</th>\n",
       "      <th>song_6</th>\n",
       "      <th>song_7</th>\n",
       "      <th>song_8</th>\n",
       "      <th>song_9</th>\n",
       "      <th>song_10</th>\n",
       "      <th>...</th>\n",
       "      <th>song_4991</th>\n",
       "      <th>song_4992</th>\n",
       "      <th>song_4993</th>\n",
       "      <th>song_4994</th>\n",
       "      <th>song_4995</th>\n",
       "      <th>song_4996</th>\n",
       "      <th>song_4997</th>\n",
       "      <th>song_4998</th>\n",
       "      <th>song_4999</th>\n",
       "      <th>song_5000</th>\n",
       "    </tr>\n",
       "  </thead>\n",
       "  <tbody>\n",
       "    <tr>\n",
       "      <th>user_1</th>\n",
       "      <td>2</td>\n",
       "      <td>2</td>\n",
       "      <td>8</td>\n",
       "      <td>8</td>\n",
       "      <td>13</td>\n",
       "      <td>1</td>\n",
       "      <td>4</td>\n",
       "      <td>9</td>\n",
       "      <td>1</td>\n",
       "      <td>2</td>\n",
       "      <td>...</td>\n",
       "      <td>14</td>\n",
       "      <td>2</td>\n",
       "      <td>14</td>\n",
       "      <td>1</td>\n",
       "      <td>9</td>\n",
       "      <td>0</td>\n",
       "      <td>11</td>\n",
       "      <td>6</td>\n",
       "      <td>14</td>\n",
       "      <td>7</td>\n",
       "    </tr>\n",
       "    <tr>\n",
       "      <th>user_2</th>\n",
       "      <td>13</td>\n",
       "      <td>5</td>\n",
       "      <td>5</td>\n",
       "      <td>5</td>\n",
       "      <td>12</td>\n",
       "      <td>8</td>\n",
       "      <td>10</td>\n",
       "      <td>10</td>\n",
       "      <td>2</td>\n",
       "      <td>2</td>\n",
       "      <td>...</td>\n",
       "      <td>10</td>\n",
       "      <td>6</td>\n",
       "      <td>11</td>\n",
       "      <td>1</td>\n",
       "      <td>1</td>\n",
       "      <td>5</td>\n",
       "      <td>12</td>\n",
       "      <td>8</td>\n",
       "      <td>3</td>\n",
       "      <td>0</td>\n",
       "    </tr>\n",
       "    <tr>\n",
       "      <th>user_3</th>\n",
       "      <td>3</td>\n",
       "      <td>9</td>\n",
       "      <td>2</td>\n",
       "      <td>8</td>\n",
       "      <td>0</td>\n",
       "      <td>1</td>\n",
       "      <td>11</td>\n",
       "      <td>7</td>\n",
       "      <td>3</td>\n",
       "      <td>7</td>\n",
       "      <td>...</td>\n",
       "      <td>9</td>\n",
       "      <td>5</td>\n",
       "      <td>7</td>\n",
       "      <td>15</td>\n",
       "      <td>12</td>\n",
       "      <td>13</td>\n",
       "      <td>14</td>\n",
       "      <td>5</td>\n",
       "      <td>0</td>\n",
       "      <td>14</td>\n",
       "    </tr>\n",
       "    <tr>\n",
       "      <th>user_4</th>\n",
       "      <td>2</td>\n",
       "      <td>6</td>\n",
       "      <td>7</td>\n",
       "      <td>8</td>\n",
       "      <td>14</td>\n",
       "      <td>0</td>\n",
       "      <td>12</td>\n",
       "      <td>7</td>\n",
       "      <td>8</td>\n",
       "      <td>1</td>\n",
       "      <td>...</td>\n",
       "      <td>9</td>\n",
       "      <td>15</td>\n",
       "      <td>9</td>\n",
       "      <td>14</td>\n",
       "      <td>10</td>\n",
       "      <td>6</td>\n",
       "      <td>11</td>\n",
       "      <td>13</td>\n",
       "      <td>6</td>\n",
       "      <td>0</td>\n",
       "    </tr>\n",
       "    <tr>\n",
       "      <th>user_5</th>\n",
       "      <td>11</td>\n",
       "      <td>12</td>\n",
       "      <td>8</td>\n",
       "      <td>6</td>\n",
       "      <td>13</td>\n",
       "      <td>7</td>\n",
       "      <td>0</td>\n",
       "      <td>7</td>\n",
       "      <td>3</td>\n",
       "      <td>13</td>\n",
       "      <td>...</td>\n",
       "      <td>12</td>\n",
       "      <td>14</td>\n",
       "      <td>11</td>\n",
       "      <td>11</td>\n",
       "      <td>11</td>\n",
       "      <td>7</td>\n",
       "      <td>3</td>\n",
       "      <td>6</td>\n",
       "      <td>11</td>\n",
       "      <td>7</td>\n",
       "    </tr>\n",
       "  </tbody>\n",
       "</table>\n",
       "<p>5 rows × 5000 columns</p>\n",
       "</div>"
      ],
      "text/plain": [
       "        song_1  song_2  song_3  song_4  song_5  song_6  song_7  song_8  \\\n",
       "user_1       2       2       8       8      13       1       4       9   \n",
       "user_2      13       5       5       5      12       8      10      10   \n",
       "user_3       3       9       2       8       0       1      11       7   \n",
       "user_4       2       6       7       8      14       0      12       7   \n",
       "user_5      11      12       8       6      13       7       0       7   \n",
       "\n",
       "        song_9  song_10  ...  song_4991  song_4992  song_4993  song_4994  \\\n",
       "user_1       1        2  ...         14          2         14          1   \n",
       "user_2       2        2  ...         10          6         11          1   \n",
       "user_3       3        7  ...          9          5          7         15   \n",
       "user_4       8        1  ...          9         15          9         14   \n",
       "user_5       3       13  ...         12         14         11         11   \n",
       "\n",
       "        song_4995  song_4996  song_4997  song_4998  song_4999  song_5000  \n",
       "user_1          9          0         11          6         14          7  \n",
       "user_2          1          5         12          8          3          0  \n",
       "user_3         12         13         14          5          0         14  \n",
       "user_4         10          6         11         13          6          0  \n",
       "user_5         11          7          3          6         11          7  \n",
       "\n",
       "[5 rows x 5000 columns]"
      ]
     },
     "execution_count": 3,
     "metadata": {},
     "output_type": "execute_result"
    }
   ],
   "source": [
    "df.head()"
   ]
  },
  {
   "cell_type": "code",
   "execution_count": 4,
   "id": "f0135c19",
   "metadata": {},
   "outputs": [
    {
     "data": {
      "text/plain": [
       "(1000, 5000)"
      ]
     },
     "execution_count": 4,
     "metadata": {},
     "output_type": "execute_result"
    }
   ],
   "source": [
    "df.shape"
   ]
  },
  {
   "cell_type": "markdown",
   "id": "3d81d240",
   "metadata": {},
   "source": [
    "## Spotify Reccomendation System"
   ]
  },
  {
   "cell_type": "code",
   "execution_count": 5,
   "id": "9bdd6c1e",
   "metadata": {},
   "outputs": [
    {
     "data": {
      "text/plain": [
       "array([[ 2,  2,  8, ...,  6, 14,  7],\n",
       "       [13,  5,  5, ...,  8,  3,  0],\n",
       "       [ 3,  9,  2, ...,  5,  0, 14],\n",
       "       ...,\n",
       "       [ 6,  2,  1, ..., 13,  6, 13],\n",
       "       [ 7,  0,  8, ..., 11,  9, 12],\n",
       "       [ 6, 15,  0, ..., 15,  4,  5]], dtype=int64)"
      ]
     },
     "execution_count": 5,
     "metadata": {},
     "output_type": "execute_result"
    }
   ],
   "source": [
    "X = df.values\n",
    "X"
   ]
  },
  {
   "cell_type": "markdown",
   "id": "42cf6e0c",
   "metadata": {},
   "source": [
    "## Non Negative Matrix vectorization(NMF)"
   ]
  },
  {
   "cell_type": "code",
   "execution_count": 6,
   "id": "a16de0db",
   "metadata": {},
   "outputs": [],
   "source": [
    "nmf = NMF(n_components = 100, max_iter = 1000, random_state = 3)"
   ]
  },
  {
   "cell_type": "code",
   "execution_count": null,
   "id": "062290ee",
   "metadata": {},
   "outputs": [],
   "source": [
    "nmf.fit(X)"
   ]
  },
  {
   "cell_type": "code",
   "execution_count": null,
   "id": "6517886f",
   "metadata": {},
   "outputs": [],
   "source": [
    "user_matrix = nmf.transform(X)\n",
    "song_matrix = nmf.components_.T"
   ]
  },
  {
   "cell_type": "code",
   "execution_count": null,
   "id": "720b97b3",
   "metadata": {},
   "outputs": [],
   "source": [
    "user_matrix"
   ]
  },
  {
   "cell_type": "code",
   "execution_count": null,
   "id": "26f43db1",
   "metadata": {},
   "outputs": [],
   "source": [
    "user_matrix.shape"
   ]
  },
  {
   "cell_type": "code",
   "execution_count": null,
   "id": "51280b0f",
   "metadata": {},
   "outputs": [],
   "source": [
    "song_matrix.shape"
   ]
  },
  {
   "cell_type": "markdown",
   "id": "fda9536d",
   "metadata": {},
   "source": [
    "## Steps for building a recommendation system - type1(For local library or small dataset)\n",
    "\n",
    "1. Consider recommending song to the first user(row location 0 in user matrix)\n",
    "2. Find the Euclidian Distance between this first user and the remaining 999 users\n",
    "3. Find out top 10 songs heard by nearest 5 users.\n",
    "4. Recommend this 10 songs to the first user.\n"
   ]
  },
  {
   "cell_type": "markdown",
   "id": "4166744a",
   "metadata": {},
   "source": [
    "## Calculating the distance between two users"
   ]
  },
  {
   "cell_type": "code",
   "execution_count": null,
   "id": "2da9f616",
   "metadata": {},
   "outputs": [],
   "source": [
    "def col_dist(u1, u2):\n",
    "    return pow(sum(pow(u1[x]-u2[x], 2)for x in range(len(u1))), 0.5)"
   ]
  },
  {
   "cell_type": "code",
   "execution_count": null,
   "id": "4b2a2053",
   "metadata": {},
   "outputs": [],
   "source": [
    "col_dist(user_matrix[0], user_matrix[1])"
   ]
  },
  {
   "cell_type": "code",
   "execution_count": null,
   "id": "60d131db",
   "metadata": {},
   "outputs": [],
   "source": [
    "def dist_from_remaining_users(b_user, user_matrix):\n",
    "    dist = []\n",
    "    for i in range(len(user_matrix)):\n",
    "        if b_user != i:\n",
    "            dist.append(col_dist(user_matrix[b_user], user_matrix[i]))\n",
    "            \n",
    "    return dist"
   ]
  },
  {
   "cell_type": "code",
   "execution_count": null,
   "id": "97aee74c",
   "metadata": {},
   "outputs": [],
   "source": [
    "dist_user1 = dist_from_remaining_users(0, user_matrix)"
   ]
  },
  {
   "cell_type": "code",
   "execution_count": null,
   "id": "145806c8",
   "metadata": {},
   "outputs": [],
   "source": [
    "dist_user1"
   ]
  },
  {
   "cell_type": "code",
   "execution_count": null,
   "id": "0732bb43",
   "metadata": {},
   "outputs": [],
   "source": [
    "len(dist_user1)"
   ]
  },
  {
   "cell_type": "markdown",
   "id": "3f49913e",
   "metadata": {},
   "source": [
    "### Finding Nearest 5 Users"
   ]
  },
  {
   "cell_type": "code",
   "execution_count": null,
   "id": "91f953b0",
   "metadata": {},
   "outputs": [],
   "source": [
    "nearest_users = np.argsort(dist_user1)[:5]"
   ]
  },
  {
   "cell_type": "code",
   "execution_count": null,
   "id": "d898678f",
   "metadata": {},
   "outputs": [],
   "source": [
    "for i in range(len(nearest_users)):\n",
    "    nearest_users[i] +=1"
   ]
  },
  {
   "cell_type": "code",
   "execution_count": null,
   "id": "ecf7cd02",
   "metadata": {},
   "outputs": [],
   "source": [
    "nearest_users"
   ]
  },
  {
   "cell_type": "code",
   "execution_count": null,
   "id": "d20f395d",
   "metadata": {},
   "outputs": [],
   "source": [
    "for i in nearest_users:\n",
    "    print(\"Songs heared by user\", i, \"are:\")\n",
    "    temp = df.iloc[i]\n",
    "    print(temp[temp.values !=0].index)"
   ]
  },
  {
   "cell_type": "markdown",
   "id": "1165c7dc",
   "metadata": {},
   "source": [
    "Picking out top 10 songs from above list of songs"
   ]
  },
  {
   "cell_type": "code",
   "execution_count": null,
   "id": "2623c177",
   "metadata": {},
   "outputs": [],
   "source": [
    "def topNsongs(nearest_users, df, N):\n",
    "    temp = df.iloc[nearest_users]\n",
    "    dict1 = temp.max().to_dict()\n",
    "    #print(dict1)\n",
    "    \n",
    "# converting every key value pair into a tuple and swapping them for sorting purpose, End result is a list of\n",
    "# song and number of times heard tuple\n",
    "    sorted_dict = sorted(dict1.items(), key = lambda keyvalue: (keyvalue[1], keyvalue[0]), reverse = True)[:N]\n",
    "    # print(sorted_dict)\n",
    "    return [x[0] for x in sorted_dict]\n",
    "    # return 0"
   ]
  },
  {
   "cell_type": "code",
   "execution_count": null,
   "id": "2ae8fa36",
   "metadata": {},
   "outputs": [],
   "source": [
    "topNsongs(nearest_users, df, 15)"
   ]
  },
  {
   "cell_type": "markdown",
   "id": "c07a2255",
   "metadata": {},
   "source": [
    "## Type 2 Recommendation System for larger data set \n",
    "\n",
    "- K means clustering"
   ]
  },
  {
   "cell_type": "code",
   "execution_count": null,
   "id": "a48bc037",
   "metadata": {},
   "outputs": [],
   "source": [
    "WCSS = {}\n",
    "for k in range(1, 50):\n",
    "    k_means = KMeans(n_clusters = k, max_iter = 1000).fit(song_matrix)\n",
    "    WCSS[k] = k_means.inertia_\n",
    "    \n",
    "    #inertia measures how well a dataset was clustered by kmeans\n"
   ]
  },
  {
   "cell_type": "code",
   "execution_count": null,
   "id": "5c2503f9",
   "metadata": {},
   "outputs": [],
   "source": [
    "WCSS"
   ]
  },
  {
   "cell_type": "code",
   "execution_count": null,
   "id": "226010ed",
   "metadata": {},
   "outputs": [],
   "source": [
    "plt.plot(WCSS.keys(), WCSS.values())\n",
    "plt.xlabel(\"Number of clusters\")\n",
    "plt.ylabel('WCSS')"
   ]
  },
  {
   "cell_type": "code",
   "execution_count": null,
   "id": "5096f708",
   "metadata": {},
   "outputs": [],
   "source": [
    "def songs_in_cluster(N_clusters, df, song_matrix, song_name, n_recommendations):\n",
    "    kmeans = KMeans(n_clusters = N_clusters, max_iter = 1000).fit(song_matrix)\n",
    "    index_in_song = df.columns.to_list().index(song_name)\n",
    "    #print(index_in_song)\n",
    "    song_vector = song_matrix[index_in_song] # song_vector = genre score of given song\n",
    "    #print(song_vector)\n",
    "    all_songs_in_cluster = kmeans.predict(song_matrix)\n",
    "    #print(len(all_songs_in_cluster))\n",
    "    \n",
    "    \n",
    "    # Finding songs which belongs to same cluster as of songs passed in song_name    \n",
    "    songs_in_selected_cluster = [X for X in range(len(all_songs_in_cluster))\n",
    "                                if all_songs_in_cluster[X] == kmeans.predict([song_vector])]\n",
    "    #print(len(songs_in_selected_cluster))\n",
    "    song_cluster = song_matrix[songs_in_selected_cluster]\n",
    "    \n",
    "    #print(song_cluster)\n",
    "    neighbors = NearestNeighbors(n_neighbors = n_recommendations)\n",
    "    neighbors.fit(song_cluster)\n",
    "    recommended_songs = neighbors.kneighbors([song_matrix[index_in_song]])\n",
    "    #print(recommended_songs[1][0])\n",
    "    \n",
    "    \n",
    "    songs = df.columns\n",
    "    return[songs[X] for X in recommended_songs[1][0]]"
   ]
  },
  {
   "cell_type": "code",
   "execution_count": null,
   "id": "06ae4917",
   "metadata": {},
   "outputs": [],
   "source": [
    "songs_in_cluster(15, df, song_matrix, 'song_5', 5)"
   ]
  },
  {
   "cell_type": "code",
   "execution_count": null,
   "id": "530baecb",
   "metadata": {},
   "outputs": [],
   "source": []
  }
 ],
 "metadata": {
  "kernelspec": {
   "display_name": "Python 3 (ipykernel)",
   "language": "python",
   "name": "python3"
  },
  "language_info": {
   "codemirror_mode": {
    "name": "ipython",
    "version": 3
   },
   "file_extension": ".py",
   "mimetype": "text/x-python",
   "name": "python",
   "nbconvert_exporter": "python",
   "pygments_lexer": "ipython3",
   "version": "3.9.7"
  }
 },
 "nbformat": 4,
 "nbformat_minor": 5
}
